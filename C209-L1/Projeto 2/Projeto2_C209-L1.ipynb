{
 "cells": [
  {
   "cell_type": "markdown",
   "id": "8a37fb50",
   "metadata": {},
   "source": [
    "pegando o vídeo e salvando em uma variável e Mostrando alguns elementos do vídeo"
   ]
  },
  {
   "cell_type": "code",
   "execution_count": 2,
   "id": "e095ca0570d276fc",
   "metadata": {
    "ExecuteTime": {
     "end_time": "2024-11-22T21:04:59.206469Z",
     "start_time": "2024-11-22T21:04:58.958861Z"
    }
   },
   "outputs": [
    {
     "name": "stdout",
     "output_type": "stream",
     "text": [
      "Tamanho: [1280, 720]\n",
      "FPS: 60.0\n",
      "Duração: 203.17000000000002 segundos\n",
      "Número de frames: 12191\n"
     ]
    }
   ],
   "source": [
    "import moviepy.editor as mpe\n",
    "import numpy as np\n",
    "\n",
    "videobase = mpe.VideoFileClip(\"Video_Projeto2.mp4\")\n",
    "\n",
    "print('Tamanho:', videobase.size)\n",
    "print('FPS:', videobase.fps)\n",
    "print('Duração:', videobase.duration, 'segundos')\n",
    "print('Número de frames:', videobase.reader.nframes)\n"
   ]
  },
  {
   "cell_type": "markdown",
   "id": "6f16f2fbeca63da",
   "metadata": {},
   "source": [
    "# Questão 1\n",
    "\n",
    "Aplicando o efeito de espelho no vídeo a cada 20 segundos"
   ]
  },
  {
   "cell_type": "code",
   "execution_count": 3,
   "id": "6d38bea128028880",
   "metadata": {
    "ExecuteTime": {
     "end_time": "2024-11-22T22:01:39.074170Z",
     "start_time": "2024-11-22T22:00:54.619883Z"
    }
   },
   "outputs": [
    {
     "name": "stdout",
     "output_type": "stream",
     "text": [
      "Moviepy - Building video VP_espelhado_20_a_20.mp4.\n",
      "MoviePy - Writing audio in VP_espelhado_20_a_20TEMP_MPY_wvf_snd.mp3\n"
     ]
    },
    {
     "name": "stderr",
     "output_type": "stream",
     "text": [
      "                                                                      \r"
     ]
    },
    {
     "name": "stdout",
     "output_type": "stream",
     "text": [
      "MoviePy - Done.\n",
      "Moviepy - Writing video VP_espelhado_20_a_20.mp4\n",
      "\n"
     ]
    },
    {
     "name": "stderr",
     "output_type": "stream",
     "text": [
      "                                                                   \r"
     ]
    },
    {
     "name": "stdout",
     "output_type": "stream",
     "text": [
      "Moviepy - Done !\n",
      "Moviepy - video ready VP_espelhado_20_a_20.mp4\n"
     ]
    }
   ],
   "source": [
    "clips_processados = []\n",
    "\n",
    "for bloco in range(int(videobase.duration // 20)):\n",
    "    inicio = bloco * 20\n",
    "    fim = min(inicio + 20, videobase.duration)\n",
    "    trecho = videobase.subclip(inicio, fim)\n",
    "    if bloco % 2 == 0:\n",
    "        trecho = trecho.fx(mpe.vfx.mirror_x)\n",
    "\n",
    "    clips_processados.append(trecho)\n",
    "questao1 = mpe.concatenate_videoclips(clips_processados)\n",
    "questao1.write_videofile(\"VP_espelhado_20_a_20.mp4\")"
   ]
  },
  {
   "cell_type": "markdown",
   "id": "a478b9de39f5ddbc",
   "metadata": {},
   "source": [
    "# Questão 2\n",
    "\n",
    "Diminuindo o volume a cada 30 segundos e zerando nos últimos 10 segundos"
   ]
  },
  {
   "cell_type": "code",
   "execution_count": 4,
   "id": "aa25596cfa717da2",
   "metadata": {
    "ExecuteTime": {
     "end_time": "2024-11-22T21:33:37.031415Z",
     "start_time": "2024-11-22T21:32:53.674519Z"
    }
   },
   "outputs": [
    {
     "name": "stdout",
     "output_type": "stream",
     "text": [
      "Moviepy - Building video VP_volume_reduzido_e_mudo.mp4.\n",
      "MoviePy - Writing audio in VP_volume_reduzido_e_mudoTEMP_MPY_wvf_snd.mp3\n"
     ]
    },
    {
     "name": "stderr",
     "output_type": "stream",
     "text": [
      "                                                                     \r"
     ]
    },
    {
     "name": "stdout",
     "output_type": "stream",
     "text": [
      "MoviePy - Done.\n",
      "Moviepy - Writing video VP_volume_reduzido_e_mudo.mp4\n",
      "\n"
     ]
    },
    {
     "name": "stderr",
     "output_type": "stream",
     "text": [
      "                                                                  \r"
     ]
    },
    {
     "name": "stdout",
     "output_type": "stream",
     "text": [
      "Moviepy - Done !\n",
      "Moviepy - video ready VP_volume_reduzido_e_mudo.mp4\n"
     ]
    }
   ],
   "source": [
    "clips_volume_baixo = []\n",
    "\n",
    "for bloco in range(int(questao1.duration // 30)):\n",
    "    inicio = max((questao1.duration - 30) - (bloco * 30), 0)\n",
    "    fim = questao1.duration - (bloco * 30)\n",
    "\n",
    "    trecho = questao1.subclip(inicio, fim)\n",
    "    trecho_volume_reduzido = trecho.volumex(0.2)\n",
    "\n",
    "    clips_volume_baixo.append(trecho_volume_reduzido)\n",
    "\n",
    "video_volume_reduzido = mpe.concatenate_videoclips(clips_volume_baixo)\n",
    "inicio_mudo = max(video_volume_reduzido.duration - 10, 0)\n",
    "fim_mudo = video_volume_reduzido.duration\n",
    "trecho_mudo = video_volume_reduzido.subclip(inicio_mudo, fim_mudo).volumex(0)\n",
    "questao2 = mpe.concatenate_videoclips([video_volume_reduzido, trecho_mudo])\n",
    "questao2.write_videofile('VP_volume_reduzido_e_mudo.mp4')\n"
   ]
  },
  {
   "cell_type": "markdown",
   "id": "f8aaa2b0c94c3d80",
   "metadata": {},
   "source": [
    "# Questão 3\n",
    "Reorganizando o vídeo: pega os primeiros 60 segundos, depois o trecho de 80 segundos até o final e, por último, o pedaço de 60 a 80 segundos."
   ]
  },
  {
   "cell_type": "code",
   "execution_count": 5,
   "id": "460f42dcf6c65541",
   "metadata": {
    "ExecuteTime": {
     "end_time": "2024-11-22T21:35:27.104467Z",
     "start_time": "2024-11-22T21:34:43.436913Z"
    }
   },
   "outputs": [
    {
     "name": "stdout",
     "output_type": "stream",
     "text": [
      "Moviepy - Building video VP_corte_e_reorganizado.mp4.\n",
      "MoviePy - Writing audio in VP_corte_e_reorganizadoTEMP_MPY_wvf_snd.mp3\n"
     ]
    },
    {
     "name": "stderr",
     "output_type": "stream",
     "text": [
      "                                                                     \r"
     ]
    },
    {
     "name": "stdout",
     "output_type": "stream",
     "text": [
      "MoviePy - Done.\n",
      "Moviepy - Writing video VP_corte_e_reorganizado.mp4\n",
      "\n"
     ]
    },
    {
     "name": "stderr",
     "output_type": "stream",
     "text": [
      "                                                                  \r"
     ]
    },
    {
     "name": "stdout",
     "output_type": "stream",
     "text": [
      "Moviepy - Done !\n",
      "Moviepy - video ready VP_corte_e_reorganizado.mp4\n"
     ]
    }
   ],
   "source": [
    "trecho1 = questao2.subclip(0, 60)\n",
    "trecho2 = questao2.subclip(80, questao2.duration)\n",
    "trecho3 = questao2.subclip(60, 80)\n",
    "\n",
    "questao3 = mpe.concatenate_videoclips([trecho1, trecho2, trecho3])\n",
    "questao3.write_videofile('VP_corte_e_reorganizado.mp4')"
   ]
  }
 ],
 "metadata": {
  "kernelspec": {
   "display_name": "Python 3",
   "language": "python",
   "name": "python3"
  },
  "language_info": {
   "codemirror_mode": {
    "name": "ipython",
    "version": 3
   },
   "file_extension": ".py",
   "mimetype": "text/x-python",
   "name": "python",
   "nbconvert_exporter": "python",
   "pygments_lexer": "ipython3",
   "version": "3.12.5"
  }
 },
 "nbformat": 4,
 "nbformat_minor": 5
}
